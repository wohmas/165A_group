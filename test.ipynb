{
 "cells": [
  {
   "cell_type": "code",
   "execution_count": null,
   "metadata": {},
   "outputs": [],
   "source": [
    "for i in range(10):\n",
    "    print(i)\n",
    "    i -= 1"
   ]
  },
  {
   "cell_type": "code",
   "execution_count": 11,
   "metadata": {},
   "outputs": [
    {
     "name": "stdout",
     "output_type": "stream",
     "text": [
      "Inserting 10k records took:  \t\t\t 0.18437900000000007\n",
      "Updating 10k records took:  \t\t\t 0.17697699999999994\n",
      "Selecting 10k records took:  \t\t\t 0.08672100000000027\n",
      "Aggregate 10k of 100 record batch took:\t 0.037887000000000004\n",
      "Deleting 10k records took:  \t\t\t 0.03844000000000003\n"
     ]
    }
   ],
   "source": [
    "from lstore.db import Database\n",
    "from lstore.query import Query\n",
    "from time import process_time\n",
    "from random import choice, randrange\n",
    "\n",
    "# Student Id and 4 grades\n",
    "db = Database()\n",
    "grades_table = db.create_table('Grades', 5, 0)\n",
    "query = Query(grades_table)\n",
    "keys = []\n",
    "\n",
    "insert_time_0 = process_time()\n",
    "for i in range(0, 10000):\n",
    "    query.insert(906659671 + i, 93, 0, 0, 0)\n",
    "    keys.append(906659671 + i)\n",
    "insert_time_1 = process_time()\n",
    "\n",
    "print(\"Inserting 10k records took:  \\t\\t\\t\", insert_time_1 - insert_time_0)\n",
    "\n",
    "# Measuring update Performance\n",
    "update_cols = [\n",
    "    [None, None, None, None, None],\n",
    "    [None, randrange(0, 100), None, None, None],\n",
    "    [None, None, randrange(0, 100), None, None],\n",
    "    [None, None, None, randrange(0, 100), None],\n",
    "    [None, None, None, None, randrange(0, 100)],\n",
    "]\n",
    "\n",
    "update_time_0 = process_time()\n",
    "for i in range(0, 10000):\n",
    "    query.update(choice(keys), *(choice(update_cols)))\n",
    "update_time_1 = process_time()\n",
    "print(\"Updating 10k records took:  \\t\\t\\t\", update_time_1 - update_time_0)\n",
    "\n",
    "# Measuring Select Performance\n",
    "select_time_0 = process_time()\n",
    "for i in range(0, 10000):\n",
    "    query.select(choice(keys),0 , [1, 1, 1, 1, 1])\n",
    "select_time_1 = process_time()\n",
    "print(\"Selecting 10k records took:  \\t\\t\\t\", select_time_1 - select_time_0)\n",
    "\n",
    "# Measuring Aggregate Performance\n",
    "agg_time_0 = process_time()\n",
    "for i in range(0, 10000, 100):\n",
    "    start_value = 906659671 + i\n",
    "    end_value = start_value + 100\n",
    "    result = query.sum(start_value, end_value - 1, randrange(0, 5))\n",
    "agg_time_1 = process_time()\n",
    "print(\"Aggregate 10k of 100 record batch took:\\t\", agg_time_1 - agg_time_0)\n",
    "\n",
    "# Measuring Delete Performance\n",
    "delete_time_0 = process_time()\n",
    "for i in range(0, 10000):\n",
    "    query.delete(906659671 + i)\n",
    "delete_time_1 = process_time()\n",
    "print(\"Deleting 10k records took:  \\t\\t\\t\", delete_time_1 - delete_time_0)"
   ]
  },
  {
   "cell_type": "code",
   "execution_count": 12,
   "metadata": {},
   "outputs": [],
   "source": [
    "import seaborn as sns"
   ]
  },
  {
   "cell_type": "code",
   "execution_count": 13,
   "metadata": {},
   "outputs": [],
   "source": [
    "insert_time = insert_time_1 - insert_time_0\n",
    "update_time = update_time_1 - update_time_0\n",
    "select_time = select_time_1 - select_time_0\n",
    "agg_time = agg_time_1 - agg_time_0\n",
    "delete_time = delete_time_1 - delete_time_0"
   ]
  },
  {
   "cell_type": "code",
   "execution_count": 17,
   "metadata": {},
   "outputs": [],
   "source": [
    "times = [insert_time, update_time, select_time, agg_time, delete_time]\n",
    "labels = [\"insert_time\", \"update_time\", \"select_time\", 'agg_time', 'delete_time']"
   ]
  },
  {
   "cell_type": "code",
   "execution_count": 22,
   "metadata": {},
   "outputs": [
    {
     "data": {
      "text/plain": [
       "[Text(0.5, 0, 'Query Methods'), Text(0, 0.5, 'Time (in seconds)')]"
      ]
     },
     "execution_count": 22,
     "metadata": {},
     "output_type": "execute_result"
    },
    {
     "data": {
      "image/png": "[encoded data removed]",
      "text/plain": [
       "<Figure size 640x480 with 1 Axes>"
      ]
     },
     "metadata": {},
     "output_type": "display_data"
    }
   ],
   "source": [
    "fig = sns.barplot(x = labels, y = times)\n",
    "fig.set(xlabel='Query Methods', ylabel='Time (in seconds)')"
   ]
  }
 ],
 "metadata": {
  "kernelspec": {
   "display_name": "base",
   "language": "python",
   "name": "python3"
  },
  "language_info": {
   "codemirror_mode": {
    "name": "ipython",
    "version": 3
   },
   "file_extension": ".py",
   "mimetype": "text/x-python",
   "name": "python",
   "nbconvert_exporter": "python",
   "pygments_lexer": "ipython3",
   "version": "3.9.13"
  },
  "orig_nbformat": 4,
  "vscode": {
   "interpreter": {
    "hash": "2afbdf73fbcdecb6073a7d3fe1b85cb5ab8042f504d040d34130e4f01d9f1260"
   }
  }
 },
 "nbformat": 4,
 "nbformat_minor": 2
}
