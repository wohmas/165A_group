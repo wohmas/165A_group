{
 "cells": [
  {
   "cell_type": "code",
   "execution_count": 169,
   "metadata": {},
   "outputs": [],
   "source": [
    "class Page:\n",
    "\n",
    "    def __init__(self):\n",
    "        self.num_records = 0\n",
    "        self.data = []\n",
    "        self.next_page = None\n",
    "\n",
    "    def has_capacity(self):\n",
    "        if self.num_records == 5:\n",
    "            return False\n",
    "        return True\n",
    "\n",
    "    def write(self, value):\n",
    "        self.num_records += 1\n",
    "        self.data.append(value)"
   ]
  },
  {
   "cell_type": "code",
   "execution_count": 170,
   "metadata": {},
   "outputs": [],
   "source": [
    "class Record:\n",
    "\n",
    "    def __init__(self, rid, key, columns):\n",
    "        self.rid = rid\n",
    "        self.key = key\n",
    "        self.columns = columns\n",
    "        "
   ]
  },
  {
   "cell_type": "code",
   "execution_count": 171,
   "metadata": {},
   "outputs": [],
   "source": [
    "class Index:\n",
    "\n",
    "    def __init__(self, table):\n",
    "        # One index for each table. All our empty initially.\n",
    "        self.indices = [Page()] *  table.num_columns\n",
    "        pass\n",
    "\n",
    "    \"\"\"\n",
    "    # returns the location of all records with the given value on column \"column\"\n",
    "    \"\"\"\n",
    "\n",
    "    def locate(self, column, value):\n",
    "        pass\n",
    "\n",
    "    \"\"\"\n",
    "    # Returns the RIDs of all records with values in column \"column\" between \"begin\" and \"end\"\n",
    "    \"\"\"\n",
    "\n",
    "    def locate_range(self, begin, end, column):\n",
    "        pass"
   ]
  },
  {
   "cell_type": "code",
   "execution_count": 172,
   "metadata": {},
   "outputs": [],
   "source": [
    "class Table:\n",
    "\n",
    "    \"\"\"\n",
    "    :param name: string         #Table name\n",
    "    :param num_columns: int     #Number of Columns: all columns are integer\n",
    "    :param key: int             #Index of table key in columns\n",
    "    \"\"\"\n",
    "    def __init__(self, name, num_columns, key):\n",
    "        self.name = name\n",
    "        self.key = key\n",
    "        self.rid = 0\n",
    "        self.num_columns = num_columns\n",
    "        self.page_directory = {}\n",
    "        for i in range(num_columns + 1):\n",
    "            name = f'{i}'\n",
    "            self.page_directory[name] = Page()\n",
    "        self.index = Index(self)\n",
    "        pass"
   ]
  },
  {
   "cell_type": "code",
   "execution_count": 173,
   "metadata": {},
   "outputs": [],
   "source": [
    "class Query:\n",
    "    \"\"\"\n",
    "    # Creates a Query object that can perform different queries on the specified table \n",
    "    Queries that fail must return False\n",
    "    Queries that succeed should return the result or True\n",
    "    Any query that crashes (due to exceptions) should return False\n",
    "    \"\"\"\n",
    "    def __init__(self, table):\n",
    "        self.table = table\n",
    "        pass\n",
    "\n",
    "    def insert(self, *columns):\n",
    "        schema_encoding = '0' * self.table.num_columns\n",
    "        self.index = 0\n",
    "        self.table.page_directory[f'{self.index}'].write(self.table.rid)\n",
    "        self.table.rid += 1\n",
    "        self.index += 1\n",
    "        for value in columns:\n",
    "            current = self.table.page_directory[f'{self.index}']\n",
    "            current.write(value)\n",
    "            self.index += 1\n"
   ]
  },
  {
   "cell_type": "code",
   "execution_count": 174,
   "metadata": {},
   "outputs": [],
   "source": [
    "test = Table('Test', 2, 0)"
   ]
  },
  {
   "cell_type": "code",
   "execution_count": 175,
   "metadata": {},
   "outputs": [
    {
     "data": {
      "text/plain": [
       "{'0': <__main__.Page at 0x7f9300deb550>,\n",
       " '1': <__main__.Page at 0x7f9300debfd0>,\n",
       " '2': <__main__.Page at 0x7f9300deb700>}"
      ]
     },
     "execution_count": 175,
     "metadata": {},
     "output_type": "execute_result"
    }
   ],
   "source": [
    "test.page_directory"
   ]
  },
  {
   "cell_type": "code",
   "execution_count": 176,
   "metadata": {},
   "outputs": [],
   "source": [
    "q = Query(test)\n",
    "q.insert(1, 2)\n",
    "q.insert(3, 4)"
   ]
  },
  {
   "cell_type": "code",
   "execution_count": 183,
   "metadata": {},
   "outputs": [
    {
     "data": {
      "text/plain": [
       "[2, 4]"
      ]
     },
     "execution_count": 183,
     "metadata": {},
     "output_type": "execute_result"
    }
   ],
   "source": [
    "test.page_directory['2'].data"
   ]
  }
 ],
 "metadata": {
  "kernelspec": {
   "display_name": "base",
   "language": "python",
   "name": "python3"
  },
  "language_info": {
   "codemirror_mode": {
    "name": "ipython",
    "version": 3
   },
   "file_extension": ".py",
   "mimetype": "text/x-python",
   "name": "python",
   "nbconvert_exporter": "python",
   "pygments_lexer": "ipython3",
   "version": "3.9.13"
  },
  "orig_nbformat": 4,
  "vscode": {
   "interpreter": {
    "hash": "2afbdf73fbcdecb6073a7d3fe1b85cb5ab8042f504d040d34130e4f01d9f1260"
   }
  }
 },
 "nbformat": 4,
 "nbformat_minor": 2
}
