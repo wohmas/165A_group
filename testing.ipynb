{
 "cells": [
  {
   "cell_type": "code",
   "execution_count": 1,
   "metadata": {},
   "outputs": [],
   "source": [
    "class Database():\n",
    "\n",
    "    def __init__(self):\n",
    "        self.tables = []\n",
    "        pass\n",
    "\n",
    "    # Not required for milestone1\n",
    "    def open(self, path):\n",
    "        pass\n",
    "\n",
    "    def close(self):\n",
    "        pass\n",
    "\n",
    "    \"\"\"\n",
    "    # Creates a new table\n",
    "    :param name: string         #Table name\n",
    "    :param num_columns: int     #Number of Columns: all columns are integer\n",
    "    :param key: int             #Index of table key in columns\n",
    "    \"\"\"\n",
    "    def create_table(self, name, num_columns, key_index):\n",
    "        table = Table(name, num_columns, key_index)\n",
    "        return table"
   ]
  },
  {
   "cell_type": "code",
   "execution_count": 2,
   "metadata": {},
   "outputs": [],
   "source": [
    "class Page:\n",
    "\n",
    "    def __init__(self):\n",
    "        self.num_records = 0\n",
    "        self.data = []\n",
    "        self.next_page = None\n",
    "\n",
    "    def has_capacity(self):\n",
    "        if self.num_records == 5:\n",
    "            return False\n",
    "        return True\n",
    "\n",
    "    def write(self, value):\n",
    "        self.num_records += 1\n",
    "        self.data.append(value)"
   ]
  },
  {
   "cell_type": "code",
   "execution_count": 3,
   "metadata": {},
   "outputs": [],
   "source": [
    "class Record:\n",
    "\n",
    "    def __init__(self, rid, key, columns):\n",
    "        self.rid = rid\n",
    "        self.key = key\n",
    "        self.columns = columns\n",
    "        "
   ]
  },
  {
   "cell_type": "code",
   "execution_count": 4,
   "metadata": {},
   "outputs": [],
   "source": [
    "class Index:\n",
    "\n",
    "    def __init__(self, table):\n",
    "        # One index for each table. All our empty initially.\n",
    "        self.indices = [Page()] *  table.num_columns\n",
    "        pass\n",
    "\n",
    "    \"\"\"\n",
    "    # returns the location of all records with the given value on column \"column\"\n",
    "    \"\"\"\n",
    "\n",
    "    def locate(self, column, value):\n",
    "        pass\n",
    "\n",
    "    \"\"\"\n",
    "    # Returns the RIDs of all records with values in column \"column\" between \"begin\" and \"end\"\n",
    "    \"\"\"\n",
    "\n",
    "    def locate_range(self, begin, end, column):\n",
    "        pass"
   ]
  },
  {
   "cell_type": "code",
   "execution_count": 5,
   "metadata": {},
   "outputs": [],
   "source": [
    "class Table:\n",
    "\n",
    "    \"\"\"\n",
    "    :param name: string         #Table name\n",
    "    :param num_columns: int     #Number of Columns: all columns are integer\n",
    "    :param key: int             #Index of table key in columns\n",
    "    \"\"\"\n",
    "    def __init__(self, name, num_columns, key):\n",
    "        self.name = name\n",
    "        self.key = key\n",
    "        self.rid = 0\n",
    "        self.num_columns = num_columns\n",
    "        self.page_directory = {}\n",
    "        for i in range(num_columns + 1):\n",
    "            name = f'{i}'\n",
    "            self.page_directory[name] = Page()\n",
    "        self.index = Index(self)\n",
    "        pass"
   ]
  },
  {
   "cell_type": "code",
   "execution_count": 6,
   "metadata": {},
   "outputs": [],
   "source": [
    "class Query:\n",
    "    \"\"\"\n",
    "    # Creates a Query object that can perform different queries on the specified table \n",
    "    Queries that fail must return False\n",
    "    Queries that succeed should return the result or True\n",
    "    Any query that crashes (due to exceptions) should return False\n",
    "    \"\"\"\n",
    "    def __init__(self, table):\n",
    "        self.table = table\n",
    "        pass\n",
    "\n",
    "    def insert(self, *columns):\n",
    "        schema_encoding = '0' * self.table.num_columns\n",
    "        self.index = 0\n",
    "        self.table.page_directory[f'{self.index}'].write(self.table.rid)\n",
    "        self.table.rid += 1\n",
    "        self.index += 1\n",
    "        for value in columns:\n",
    "            current = self.table.page_directory[f'{self.index}']\n",
    "            current.write(value)\n",
    "            self.index += 1\n"
   ]
  },
  {
   "cell_type": "code",
   "execution_count": 7,
   "metadata": {},
   "outputs": [],
   "source": [
    "test = Table('Test', 2, 0)"
   ]
  },
  {
   "cell_type": "code",
   "execution_count": 8,
   "metadata": {},
   "outputs": [
    {
     "data": {
      "text/plain": [
       "{'0': <__main__.Page at 0x7f9ad08d0730>,\n",
       " '1': <__main__.Page at 0x7f9ad08d02b0>,\n",
       " '2': <__main__.Page at 0x7f9ad08d0100>}"
      ]
     },
     "execution_count": 8,
     "metadata": {},
     "output_type": "execute_result"
    }
   ],
   "source": [
    "test.page_directory"
   ]
  },
  {
   "cell_type": "code",
   "execution_count": 9,
   "metadata": {},
   "outputs": [],
   "source": [
    "q = Query(test)\n",
    "q.insert(1, 2)\n",
    "q.insert(3, 4)"
   ]
  },
  {
   "cell_type": "code",
   "execution_count": 10,
   "metadata": {},
   "outputs": [
    {
     "data": {
      "text/plain": [
       "[2, 4]"
      ]
     },
     "execution_count": 10,
     "metadata": {},
     "output_type": "execute_result"
    }
   ],
   "source": [
    "test.page_directory['2'].data"
   ]
  },
  {
   "cell_type": "code",
   "execution_count": 11,
   "metadata": {},
   "outputs": [
    {
     "name": "stdout",
     "output_type": "stream",
     "text": [
      "Inserting 10k records took:  \t\t\t 0.03312000000000004\n"
     ]
    }
   ],
   "source": [
    "from time import process_time\n",
    "from random import choice, randrange\n",
    "\n",
    "# Student Id and 4 grades\n",
    "db = Database()\n",
    "grades_table = db.create_table('Grades', 5, 0)\n",
    "query = Query(grades_table)\n",
    "keys = []\n",
    "\n",
    "insert_time_0 = process_time()\n",
    "for i in range(0, 10000):\n",
    "    query.insert(906659671 + i, 93, 0, 0, 0)\n",
    "    keys.append(906659671 + i)\n",
    "insert_time_1 = process_time()\n",
    "\n",
    "print(\"Inserting 10k records took:  \\t\\t\\t\", insert_time_1 - insert_time_0)"
   ]
  }
 ],
 "metadata": {
  "kernelspec": {
   "display_name": "base",
   "language": "python",
   "name": "python3"
  },
  "language_info": {
   "codemirror_mode": {
    "name": "ipython",
    "version": 3
   },
   "file_extension": ".py",
   "mimetype": "text/x-python",
   "name": "python",
   "nbconvert_exporter": "python",
   "pygments_lexer": "ipython3",
   "version": "3.9.13"
  },
  "orig_nbformat": 4,
  "vscode": {
   "interpreter": {
    "hash": "2afbdf73fbcdecb6073a7d3fe1b85cb5ab8042f504d040d34130e4f01d9f1260"
   }
  }
 },
 "nbformat": 4,
 "nbformat_minor": 2
}
